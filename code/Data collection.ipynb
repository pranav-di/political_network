{
 "cells": [
  {
   "cell_type": "markdown",
   "metadata": {},
   "source": [
    "# Jupyter notebook for collection data for India's Political system analysis using Twitter apis"
   ]
  },
  {
   "cell_type": "code",
   "execution_count": null,
   "metadata": {},
   "outputs": [],
   "source": [
    "import tweepy\n",
    "import json\n",
    "\n",
    "consumer_key = '#your_consumer_key'\n",
    "consumer_secret = '#your_consumer_secret'\n",
    "access_token = '#your_access_token'\n",
    "access_token_secret = '#your_access_token_secret'\n",
    "\n",
    "auth = tweepy.OAuthHandler(consumer_key, consumer_secret)\n",
    "auth.set_access_token(access_token, access_token_secret)\n",
    "\n",
    "api = tweepy.API(auth,wait_on_rate_limit=True,wait_on_rate_limit_notify=True)"
   ]
  },
  {
   "cell_type": "markdown",
   "metadata": {},
   "source": [
    "## Get followers data for the political parties"
   ]
  },
  {
   "cell_type": "code",
   "execution_count": null,
   "metadata": {},
   "outputs": [],
   "source": [
    "def fetchBJPFollowers(api):\n",
    "    for follower in tweepy.Cursor(api.followers_ids, screen_name='BJP4India').items():\n",
    "        bjpfile = open('data/bjpfollowers.txt', 'a')\n",
    "        bjpfile.write(str(follower))\n",
    "        bjpfile.write('\\n')\n",
    "        bjpfile.close()\n",
    "\n",
    "def fetchCongressFollowers(api):\n",
    "    for follower in tweepy.Cursor(api.followers_ids, screen_name='INCIndia').items():\n",
    "        bjpfile = open('data/congressfollowers.txt', 'a')\n",
    "        bjpfile.write(str(follower))\n",
    "        bjpfile.write('\\n')\n",
    "        bjpfile.close()"
   ]
  },
  {
   "cell_type": "code",
   "execution_count": null,
   "metadata": {},
   "outputs": [],
   "source": [
    "fetchBJPFollowers(api)\n",
    "fetchCongressFollowers(api)"
   ]
  },
  {
   "cell_type": "markdown",
   "metadata": {},
   "source": [
    "## Get Tweets and Retweets"
   ]
  },
  {
   "cell_type": "code",
   "execution_count": null,
   "metadata": {},
   "outputs": [],
   "source": [
    "for tweet in tweepy.Cursor(api.search,q=\"#TripleTalaq\",count=100).items():\n",
    "    tweetfile = open('data/tweets_TripleTalaq.txt', 'a')\n",
    "    tweetfile.write(json.dumps(tweet._json))\n",
    "    tweetfile.write(\"\\n\")\n",
    "    tweetfile.close()\n",
    "    \n",
    "for tweet in tweepy.Cursor(api.search,q=\"#UnnaoKiBeti\",count=100).items():\n",
    "    tweetfile = open('data/tweets_UnnaoKiBeti.txt', 'a')\n",
    "    tweetfile.write(json.dumps(tweet._json))\n",
    "    tweetfile.write(\"\\n\")\n",
    "    tweetfile.close()"
   ]
  }
 ],
 "metadata": {
  "kernelspec": {
   "display_name": "Python 3",
   "language": "python",
   "name": "python3"
  },
  "language_info": {
   "codemirror_mode": {
    "name": "ipython",
    "version": 3
   },
   "file_extension": ".py",
   "mimetype": "text/x-python",
   "name": "python",
   "nbconvert_exporter": "python",
   "pygments_lexer": "ipython3",
   "version": "3.7.1"
  }
 },
 "nbformat": 4,
 "nbformat_minor": 2
}
